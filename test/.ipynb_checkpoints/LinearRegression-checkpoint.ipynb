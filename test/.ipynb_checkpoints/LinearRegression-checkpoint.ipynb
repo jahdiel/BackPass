{
 "cells": [
  {
   "cell_type": "markdown",
   "metadata": {},
   "source": [
    "## Linear Regression with Backpass\n",
    "\n",
    "A simple implementation of a linear regression model."
   ]
  },
  {
   "cell_type": "code",
   "execution_count": 1,
   "metadata": {},
   "outputs": [],
   "source": [
    "import sys\n",
    "sys.path.append('../../')\n",
    "from matplotlib import pyplot as plt\n",
    "from backpass.core import grad\n",
    "import backpass.numpy as np"
   ]
  },
  {
   "cell_type": "code",
   "execution_count": 7,
   "metadata": {},
   "outputs": [
    {
     "data": {
      "text/plain": [
       "(<backpass.core.Tensor.Tensor [0.62551534] -leaf ref: 0>,\n",
       " <backpass.core.Tensor.Tensor [0.03424533] -leaf ref: 0>)"
      ]
     },
     "execution_count": 7,
     "metadata": {},
     "output_type": "execute_result"
    }
   ],
   "source": [
    "# Generate a synthetic dataset\n",
    "x = np.arange(1, 301, dtype=np.float32)\n",
    "y_true = np.random.normal(x + 2, 50)\n",
    "\n",
    "# Initialize parameters randomly\n",
    "m = np.random.rand(1)\n",
    "b = np.random.rand(1)\n",
    "\n",
    "m, b"
   ]
  },
  {
   "cell_type": "code",
   "execution_count": 8,
   "metadata": {},
   "outputs": [
    {
     "data": {
      "image/png": "[encoded data removed]",
      "text/plain": [
       "<Figure size 432x288 with 1 Axes>"
      ]
     },
     "metadata": {
      "needs_background": "light"
     },
     "output_type": "display_data"
    }
   ],
   "source": [
    "# Calculate initial linear model (should be bad)\n",
    "res = []\n",
    "for i in range(300):\n",
    "    y_pred = (m * i) + b\n",
    "    res.append(y_pred.value)\n",
    "\n",
    "# Plot initial state\n",
    "plt.scatter(x.value, y_true.value)\n",
    "plt.plot(res, color='r')\n",
    "plt.show()"
   ]
  },
  {
   "cell_type": "markdown",
   "metadata": {},
   "source": [
    "## Function to evaluate error of linear regression model"
   ]
  },
  {
   "cell_type": "code",
   "execution_count": 4,
   "metadata": {},
   "outputs": [
    {
     "name": "stdout",
     "output_type": "stream",
     "text": [
      "101.0 107.78484301912069 <backpass.core.Tensor.Tensor [0.72472787] -leaf ref: 300> <backpass.core.Tensor.Tensor [0.0920036] -leaf ref: 300>\n"
     ]
    },
    {
     "data": {
      "text/plain": [
       "<backpass.core.Tensor.Tensor [1189.92740112] ref: 0>"
      ]
     },
     "execution_count": 4,
     "metadata": {},
     "output_type": "execute_result"
    }
   ],
   "source": [
    "def calc_error(x, y_true, slope, y_intercept):\n",
    "    y_pred = (slope * x) + y_intercept\n",
    "    neg_y_pred = -1 * y_pred\n",
    "    return np.square(np.add(neg_y_pred, y_true))\n",
    "\n",
    "d_error = grad(calc_error)\n",
    "\n",
    "print(x[100], y_true[100], m, b)\n",
    "calc_error(x[100], y_true[100], m, b)"
   ]
  },
  {
   "cell_type": "markdown",
   "metadata": {},
   "source": [
    "## Run gradient descent to obtain best parameters"
   ]
  },
  {
   "cell_type": "code",
   "execution_count": 5,
   "metadata": {
    "scrolled": false
   },
   "outputs": [
    {
     "name": "stdout",
     "output_type": "stream",
     "text": [
      "[-19.76477996] [19.68572084]\n",
      "[63.89936897] [-63.26037528]\n",
      "[-117.39040215] [115.0425941]\n",
      "[-140.74881211] [135.9633525]\n",
      "[-140.78084961] [133.46024543]\n",
      "[-659.45514234] [610.65546181]\n",
      "[-733.085844] [659.7772596]\n",
      "[1152.81868052] [-1002.95225205]\n",
      "[-555.02160188] [463.99805917]\n",
      "[-97.41431099] [77.73662017]\n",
      "[387.04054054] [-292.60264865]\n",
      "[-71.86729358] [51.02577844]\n",
      "[-161.05645201] [106.29725832]\n",
      "[197.72150268] [-119.81923063]\n",
      "[740.02433636] [-405.53333633]\n",
      "[-124.69328501] [60.60093651]\n",
      "[1895.67036017] [-796.18155127]\n",
      "[92.18597026] [-32.26508959]\n",
      "[-3205.92333287] [884.83483987]\n",
      "[-1407.99897625] [278.7837973]\n",
      "[4985.74598506] [-578.34653427]\n",
      "[-2730.05216305] [81.90156489]\n",
      "[-1551.33827128] [-93.08029628]\n",
      "[5074.36104794] [781.45160138]\n",
      "[-2177.44892691] [-548.71712958]\n",
      "[642.45145134] [227.42781377]\n",
      "[-3319.08243738] [-1526.7779212]\n",
      "[-4330.7927527] [-2468.55186904]\n",
      "[7717.7917422] [5278.96955167]\n",
      "[-1389.4123042] [-1114.30866797]\n",
      "[-1861.6672208] [-1720.18051202]\n",
      "[3510.16348575] [3685.67166004]\n",
      "[-145.97118197] [-172.24599472]\n",
      "[-4718.09541301] [-6199.57737269]\n",
      "[5550.52726956] [8059.3655954]\n",
      "[-8146.39243571] [-12985.34954252]\n",
      "[15667.54500672] [27261.52831168]\n",
      "[-22354.51845961] [-42250.03988866]\n",
      "[27345.30157596] [55893.79642126]\n",
      "[-51199.4134055] [-112741.10831891]\n",
      "[122182.14178726] [288838.58318509]\n",
      "[-312165.49420288] [-789778.70033328]\n",
      "[835455.99950198] [2255731.19865535]\n",
      "[-2355731.36259178] [-6770371.93608879]\n",
      "[7082695.15672155] [21616385.61831417]\n",
      "[-22589232.00788721] [-73053576.31350723]\n",
      "[76255265.13803934] [2.60793007e+08]\n",
      "[-2.72001658e+08] [-9.81925984e+08]\n",
      "[1.02324843e+09] [3.89243704e+09]\n",
      "[-4.05289103e+09] [-1.62196699e+10]\n",
      "[1.6874804e+10] [7.09416762e+10]\n",
      "[-7.37504275e+10] [-3.25239385e+11]\n",
      "[3.37866516e+11] [1.5609433e+12]\n",
      "[-1.62039187e+12] [-7.83297429e+12]\n",
      "[8.12572017e+12] [4.10511383e+13]\n",
      "[-4.25572272e+13] [-2.24446816e+14]\n",
      "[2.32533048e+14] [1.27893177e+15]\n",
      "[-1.3241932e+15] [-7.58762702e+15]\n",
      "[7.85148542e+15] [4.6826259e+16]\n",
      "[-4.84268106e+16] [-3.00343079e+17]\n",
      "[3.10436534e+17] [2.00045302e+18]\n",
      "[-2.06657032e+18] [-1.38253555e+19]\n",
      "[1.42748725e+19] [9.9067615e+19]\n",
      "[-1.02237177e+20] [-7.35494255e+20]\n",
      "[7.58655171e+20] [5.65349833e+21]\n",
      "[-5.82876937e+21] [-4.49631269e+22]\n",
      "[4.63358096e+22] [3.69759761e+23]\n",
      "[-3.8087849e+23] [-3.14224754e+24]\n",
      "[3.23533602e+24] [2.75780042e+25]\n",
      "[-2.83830741e+25] [-2.49827819e+26]\n",
      "[2.57016004e+26] [2.33473338e+27]\n",
      "[-2.40095706e+27] [-2.24969677e+28]\n",
      "[2.31261621e+28] [2.23398726e+29]\n",
      "[-2.29560579e+29] [-2.285046e+30]\n",
      "[2.34721558e+30] [2.40636541e+31]\n",
      "[-2.47095718e+31] [-2.60784821e+32]\n",
      "[2.67692128e+32] [2.90713651e+33]\n",
      "[-2.98313044e+33] [-3.3321567e+34]\n",
      "[3.4181372e+34] [3.92538876e+35]\n",
      "[-4.02538661e+35] [-4.75076127e+36]\n",
      "[4.87026323e+36] [5.90470714e+37]\n",
      "[-6.05139111e+37] [-7.53398193e+38]\n",
      "[7.71884424e+38] [9.86468293e+39]\n",
      "[-1.01038006e+40] [-1.32501242e+41]\n",
      "[1.35674586e+41] [1.82509453e+42]\n",
      "[-1.86828753e+42] [-2.57711582e+43]\n",
      "[2.6373931e+43] [3.72927384e+44]\n",
      "[-3.81549125e+44] [-5.52864683e+45]\n",
      "[5.65500362e+45] [8.39428737e+46]\n",
      "[-8.58397076e+46] [-1.30493524e+48]\n",
      "[1.33409309e+48] [2.07638249e+49]\n",
      "[-2.12226522e+49] [-3.3807685e+50]\n",
      "[3.45465851e+50] [5.63109338e+51]\n",
      "[-5.75283616e+51] [-9.59227901e+52]\n",
      "[9.79744398e+52] [1.67066015e+54]\n",
      "[-1.70601509e+54] [-2.9742667e+55]\n",
      "[3.03654993e+55] [5.41113197e+56]\n",
      "[-5.52327081e+56] [-1.00578762e+58]\n",
      "[1.02641754e+58] [1.90954719e+59]\n",
      "[-1.94831675e+59] [-3.70219148e+60]\n",
      "[3.7766018e+60] [7.32811813e+61]\n",
      "[-7.47394057e+61] [-1.48058763e+63]\n",
      "[1.50975966e+63] [3.05273403e+64]\n",
      "[-3.11229535e+64] [-6.42191022e+65]\n",
      "[6.54599647e+65] [1.37806318e+67]\n",
      "[-1.40443579e+67] [-3.01588542e+68]\n",
      "[3.07305478e+68] [6.72998997e+69]\n",
      "[-6.85636645e+69] [-1.53102663e+71]\n",
      "[1.55950901e+71] [3.55006631e+72]\n",
      "[-3.61550118e+72] [-8.38868583e+73]\n",
      "[8.54189431e+73] [2.01964549e+75]\n",
      "[-2.05619793e+75] [-4.95338081e+76]\n",
      "[5.04222537e+76] [1.2373621e+78]\n",
      "[-1.25935836e+78] [-3.14764028e+79]\n",
      "[3.2031021e+79] [8.15253546e+80]\n",
      "[-8.29492973e+80] [-2.14954809e+82]\n",
      "[2.18676762e+82] [5.76869299e+83]\n",
      "[-5.8677209e+83] [-1.57548306e+85]\n",
      "[1.60229835e+85] [4.37812e+86]\n",
      "[-4.4520084e+86] [-1.23774738e+88]\n",
      "[1.25846173e+88] [3.55943316e+89]\n",
      "[-3.61850786e+89] [-1.04104471e+91]\n",
      "[1.05818038e+91] [3.0962358e+92]\n",
      "[-3.14678408e+92] [-9.36294134e+93]\n",
      "[9.51456051e+93] [2.87834484e+95]\n",
      "[-2.92458109e+95] [-8.99425669e+96]\n",
      "[9.13758467e+96] [2.85640897e+98]\n",
      "[-2.90156748e+98] [-9.21827988e+99]\n",
      "[9.36287371e+99] [3.02271015e+101]\n",
      "[-3.0697541e+101] [-1.00694074e+103]\n",
      "[1.02249126e+103] [3.40734986e+104]\n",
      "[-3.45956749e+104] [-1.1710636e+106]\n",
      "[1.18887368e+106] [4.08734772e+107]\n",
      "[-4.14904091e+107] [-1.44859614e+109]\n",
      "[1.47029705e+109] [5.2124971e+110]\n",
      "[-5.29000315e+110] [-1.90408373e+112]\n",
      "[1.93218715e+112] [7.06021184e+113]\n",
      "[-7.16365403e+113] [-2.65699928e+115]\n",
      "[2.69564502e+115] [1.01474861e+117]\n",
      "[-1.02940145e+117] [-3.93251942e+118]\n",
      "[3.98889746e+118] [1.54625621e+120]\n",
      "[-1.56826614e+120] [-6.16799074e+121]\n",
      "[6.25516758e+121] [2.49581186e+123]\n",
      "[-2.53083951e+123] [-1.02433198e+125]\n",
      "[1.03860787e+125] [4.26369303e+126]\n",
      "[-4.32270398e+126] [-1.79971457e+128]\n",
      "[1.82445205e+128] [7.70283654e+129]\n",
      "[-7.80799106e+129] [-3.34260097e+131]\n",
      "[3.38792282e+131] [1.47049402e+133]\n",
      "[-1.49029798e+133] [-6.55760919e+134]\n",
      "[6.64533347e+134] [2.96408454e+136]\n",
      "[-3.00347307e+136] [-1.35787017e+138]\n",
      "[1.37579527e+138] [6.30389393e+139]\n",
      "[-6.38656529e+139] [-2.96553773e+141]\n",
      "[3.00417543e+141] [1.41352462e+143]\n",
      "[-1.43182211e+143] [-6.82606871e+144]\n",
      "[6.91386109e+144] [3.33939491e+146]\n",
      "[-3.38206958e+146] [-1.65484665e+148]\n",
      "[1.67585994e+148] [8.3062322e+149]\n",
      "[-8.41103958e+149] [-4.22251009e+151]\n",
      "[4.27545537e+151] [2.17381253e+153]\n",
      "[-2.20089975e+153] [-1.13324328e+155]\n",
      "[1.14727685e+155] [5.98190151e+156]\n",
      "[-6.05552283e+156] [-3.19695272e+158]\n",
      "[3.23605808e+158] [1.72973777e+160]\n",
      "[-1.75076743e+160] [-9.47410289e+161]\n",
      "[9.58859044e+161] [5.25262984e+163]\n",
      "[-5.31572279e+163] [-2.94756829e+165]\n",
      "[2.9827622e+165] [1.67404546e+167]\n",
      "[-1.69391491e+167] [-9.62177547e+168]\n",
      "[9.73530379e+168] [5.59624203e+170]\n",
      "[-5.66188541e+170] [-3.29351874e+172]\n",
      "[3.33192615e+172] [1.96117173e+174]\n",
      "[-1.98390938e+174] [-1.18149739e+176]\n",
      "[1.19511662e+176] [7.20081668e+177]\n",
      "[-7.2833455e+177] [-4.43949042e+179]\n",
      "[4.49008167e+179] [2.76858436e+181]\n",
      "[-2.79995567e+181] [-1.74633235e+183]\n",
      "[1.76600887e+183] [1.11406903e+185]\n",
      "[-1.12655131e+185] [-7.18762265e+186]\n",
      "[7.26770573e+186] [4.68941444e+188]\n",
      "[-4.74137352e+188] [-3.09374622e+190]\n",
      "[3.12783632e+190] [2.0637464e+192]\n",
      "[-2.08636229e+192] [-1.39189574e+194]\n",
      "[1.40706593e+194] [9.49094111e+195]\n",
      "[-9.59382168e+195] [-6.54241076e+197]\n",
      "[6.61294735e+197] [4.5589659e+199]\n",
      "[-4.60785457e+199] [-3.21121385e+201]\n",
      "[3.24546607e+201] [2.28623612e+203]\n",
      "[-2.31049275e+203] [-1.64511705e+205]\n",
      "[1.6624794e+205] [1.19638668e+207]\n",
      "[-1.20894691e+207] [-8.79267086e+208]\n",
      "[8.88449845e+208] [6.53010636e+210]\n",
      "[-6.59795025e+210] [-4.90056157e+212]\n",
      "[4.95121236e+212] [3.7159839e+214]\n",
      "[-3.75419378e+214] [-2.84695531e+216]\n",
      "[2.8760796e+216] [2.20365219e+218]\n",
      "[-2.22608079e+218] [-1.72320914e+220]\n",
      "[1.74065902e+220] [1.36126498e+222]\n",
      "[-1.37498024e+222] [-1.08626189e+224]\n",
      "[1.09715153e+224] [8.75570804e+225]\n",
      "[-8.84304515e+225] [-7.12837869e+227]\n",
      "[7.19913053e+227] [5.86153208e+229]\n",
      "[-5.9194227e+229] [-4.86777806e+231]\n",
      "[4.91561777e+231] [4.08251887e+233]\n",
      "[-4.12244499e+233] [-3.45765951e+235]\n",
      "[3.4913101e+235] [2.95713966e+237]\n",
      "[-2.98577973e+237] [-2.55373741e+239]\n",
      "[2.57835131e+239] [2.22676733e+241]\n",
      "[-2.24812684e+241] [-1.96041157e+243]\n",
      "[1.97912639e+243] [1.74250204e+245]\n",
      "[-1.7590576e+245] [-1.5636263e+247]\n",
      "[1.57841212e+247] [1.41646704e+249]\n",
      "[-1.42979827e+249] [-1.29531144e+251]\n",
      "[1.30744531e+251] [1.19568489e+253]\n",
      "[-1.20683328e+253] [-1.11407608e+255]\n",
      "[1.12441536e+255] [1.04773023e+257]\n",
      "[-1.05740888e+257] [-9.94493053e+258]\n",
      "[1.00363767e+259] [9.52693024e+260]\n",
      "[-9.6141319e+260] [-9.21053064e+262]\n",
      "[9.29445217e+262] [8.98624813e+264]\n",
      "[-9.0677548e+264] [-8.84740836e+266]\n",
      "[8.92729345e+266] [8.78981313e+268]\n",
      "[-8.86882149e+268] [-8.8115289e+270]\n",
      "[8.89037809e+270] [8.91278185e+272]\n",
      "[-8.99218184e+272] [-9.09595162e+274]\n",
      "[9.17662406e+274] [9.36566252e+276]\n",
      "[-9.44836032e+276] [-9.72897662e+278]\n",
      "[9.81450485e+278] [1.01957002e+281]\n",
      "[-1.02849392e+281] [-1.0778822e+283]\n",
      "[1.08727537e+283] [1.14951102e+285]\n",
      "[-1.15948494e+285] [-1.23659069e+287]\n",
      "[1.24727383e+287] [1.34181719e+289]\n",
      "[-1.35335954e+289] [-1.46858457e+291]\n",
      "[1.48116328e+291] [1.62116284e+293]\n",
      "[-1.6349892e+293] [-1.80492997e+295]\n",
      "[1.82025826e+295] [2.02667554e+297]\n",
      "[-2.04381422e+297] [-2.29499899e+299]\n",
      "[2.31432504e+299] [2.62083425e+301]\n",
      "[-2.6428116e+301] [-3.01814371e+303]\n",
      "[3.04334709e+303] [3.50484024e+305]\n",
      "[-3.53398614e+305] [-4.10401811e+307]\n",
      "[4.1380054e+307] [inf]\n",
      "[-inf] [-inf]\n",
      "[inf] [nan]\n",
      "[nan] [nan]\n",
      "[nan] [nan]\n",
      "[nan] [nan]\n",
      "[nan] [nan]\n",
      "[nan] [nan]\n",
      "[nan] [nan]\n",
      "[nan] [nan]\n",
      "[nan] [nan]\n",
      "[nan] [nan]\n",
      "[nan] [nan]\n",
      "[nan] [nan]\n",
      "[nan] [nan]\n",
      "[nan] [nan]\n",
      "[nan] [nan]\n",
      "[nan] [nan]\n",
      "[nan] [nan]\n",
      "[nan] [nan]\n",
      "[nan] [nan]\n",
      "[nan] [nan]\n",
      "[nan] [nan]\n",
      "[nan] [nan]\n",
      "[nan] [nan]\n",
      "[nan] [nan]\n",
      "[nan] [nan]\n",
      "[nan] [nan]\n",
      "[nan] [nan]\n",
      "[nan] [nan]\n",
      "[nan] [nan]\n",
      "[nan] [nan]\n",
      "[nan] [nan]\n",
      "[nan] [nan]\n",
      "[nan] [nan]\n",
      "[nan] [nan]\n",
      "[nan] [nan]\n",
      "[nan] [nan]\n",
      "[nan] [nan]\n",
      "[nan] [nan]\n",
      "[nan] [nan]\n",
      "[nan] [nan]\n",
      "[nan] [nan]\n",
      "[nan] [nan]\n",
      "[nan] [nan]\n",
      "[nan] [nan]\n",
      "[nan] [nan]\n",
      "[nan] [nan]\n",
      "[nan] [nan]\n",
      "[nan] [nan]\n",
      "[nan] [nan]\n",
      "[nan] [nan]\n",
      "[nan] [nan]\n",
      "[nan] [nan]\n",
      "[nan] [nan]\n",
      "[nan] [nan]\n",
      "[nan] [nan]\n",
      "[nan] [nan]\n"
     ]
    },
    {
     "name": "stderr",
     "output_type": "stream",
     "text": [
      "../../backpass/numpy/core/primitives.py:10: RuntimeWarning: overflow encountered in square\n",
      "  return np.square(a)\n",
      "../../backpass/numpy/core/diff_funcs.py:26: RuntimeWarning: overflow encountered in multiply\n",
      "  return np.array([b * grad, a * grad])\n",
      "/Users/jahdiel/Documents/backpass/autograd_env/lib/python3.7/site-packages/ipykernel_launcher.py:8: RuntimeWarning: overflow encountered in multiply\n",
      "  \n",
      "/Users/jahdiel/Documents/backpass/autograd_env/lib/python3.7/site-packages/ipykernel_launcher.py:4: RuntimeWarning: invalid value encountered in subtract\n",
      "  after removing the cwd from sys.path.\n"
     ]
    }
   ],
   "source": [
    "for i in range(300):\n",
    "    d_error(x[i], y_true[i], m, b)\n",
    "    lr = 0.001\n",
    "    m.value -= lr * m.grad\n",
    "    b.value -= lr * b.grad\n",
    "    \n",
    "    y = m.value*x[i] + b.value\n",
    "    print(m.grad, 2*(y_true[i] - y)*x[i])\n",
    "    m.grad, b.grad = 0, 0"
   ]
  },
  {
   "cell_type": "markdown",
   "metadata": {},
   "source": [
    "## Plot the final linear regression model"
   ]
  },
  {
   "cell_type": "code",
   "execution_count": 6,
   "metadata": {},
   "outputs": [
    {
     "name": "stdout",
     "output_type": "stream",
     "text": [
      "<backpass.core.Tensor.Tensor [nan] -leaf ref: 301> <backpass.core.Tensor.Tensor [nan] -leaf ref: 301>\n"
     ]
    },
    {
     "data": {
      "image/png": "[encoded data removed]",
      "text/plain": [
       "<Figure size 432x288 with 1 Axes>"
      ]
     },
     "metadata": {
      "needs_background": "light"
     },
     "output_type": "display_data"
    }
   ],
   "source": [
    "# Calculate final linear model\n",
    "res = []\n",
    "for i in range(300):\n",
    "    y_pred = np.add(np.multiply(m, i), b)\n",
    "    res.append(y_pred.value)\n",
    "\n",
    "print(m, b)\n",
    "# Plot initial state\n",
    "plt.scatter(x.value, y_true.value)\n",
    "plt.plot(res, color='r')\n",
    "plt.show()"
   ]
  },
  {
   "cell_type": "code",
   "execution_count": null,
   "metadata": {},
   "outputs": [],
   "source": []
  },
  {
   "cell_type": "code",
   "execution_count": null,
   "metadata": {},
   "outputs": [],
   "source": []
  },
  {
   "cell_type": "code",
   "execution_count": null,
   "metadata": {},
   "outputs": [],
   "source": []
  }
 ],
 "metadata": {
  "kernelspec": {
   "display_name": "autograd_env",
   "language": "python",
   "name": "autograd_env"
  },
  "language_info": {
   "codemirror_mode": {
    "name": "ipython",
    "version": 3
   },
   "file_extension": ".py",
   "mimetype": "text/x-python",
   "name": "python",
   "nbconvert_exporter": "python",
   "pygments_lexer": "ipython3",
   "version": "3.7.3"
  }
 },
 "nbformat": 4,
 "nbformat_minor": 2
}
