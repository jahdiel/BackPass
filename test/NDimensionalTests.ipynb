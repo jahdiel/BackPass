{
 "cells": [
  {
   "cell_type": "markdown",
   "metadata": {},
   "source": [
    "# N-dimensional Tests\n",
    "\n",
    "Check that backpass functions with n-dimensional Tensors."
   ]
  },
  {
   "cell_type": "code",
   "execution_count": 1,
   "metadata": {},
   "outputs": [
    {
     "data": {
      "text/plain": [
       "'3.7.3 (default, May 24 2019, 17:28:54) \\n[Clang 10.0.1 (clang-1001.0.46.4)]'"
      ]
     },
     "execution_count": 1,
     "metadata": {},
     "output_type": "execute_result"
    }
   ],
   "source": [
    "import sys\n",
    "sys.path.append('../../')\n",
    "from backpass.core import grad\n",
    "import backpass.numpy as np\n",
    "import autograd.numpy as anp\n",
    "from autograd import grad as agrad\n",
    "sys.version"
   ]
  },
  {
   "cell_type": "code",
   "execution_count": 2,
   "metadata": {},
   "outputs": [
    {
     "name": "stdout",
     "output_type": "stream",
     "text": [
      "Backpass: 382.0\n",
      "Backpass: [array([[ 6., 30.],\n",
      "       [32., 40.],\n",
      "       [24., 28.]]), array([[ 1.,  9.],\n",
      "       [16., 25.],\n",
      "       [36., 49.]])]\n",
      "Autograd: 382.0\n",
      "Autograd: (array([[ 6., 30.],\n",
      "       [32., 40.],\n",
      "       [24., 28.]], dtype=float32), array([[ 1.,  9.],\n",
      "       [16., 25.],\n",
      "       [36., 49.]], dtype=float32))\n"
     ]
    }
   ],
   "source": [
    "B_x = np.array([[1, 3], [4, 5], [6, 7]], dtype=np.float32)\n",
    "B_b = np.array([[2, 4], [3, 3], [1, 1]], dtype=np.float32)\n",
    "\n",
    "A_x = anp.array([[1, 3], [4, 5], [6, 7]], dtype=np.float32)\n",
    "A_b = anp.array([[2, 4], [3, 3], [1, 1]], dtype=np.float32)\n",
    "\n",
    "def B_s(x, b):\n",
    "    a = np.square(x)\n",
    "    c = a * b\n",
    "    z = a + c\n",
    "    return np.sum(z)\n",
    "\n",
    "def A_s(x, b):\n",
    "    a = anp.square(x)\n",
    "    c = a * b\n",
    "    z = a + c\n",
    "    return anp.sum(z)\n",
    "\n",
    "B_y = B_s(B_x, B_b)\n",
    "A_y = A_s(A_x, A_b)\n",
    "\n",
    "B_d_func = grad(B_s)\n",
    "B_dy = B_d_func(B_x, B_b)\n",
    "\n",
    "A_d_func = agrad(A_s, [0, 1])\n",
    "A_dy = A_d_func(A_x, A_b)\n",
    "\n",
    "print(\"Backpass:\",B_y.value)\n",
    "print(\"Backpass:\",B_dy)\n",
    "\n",
    "print(\"Autograd:\",A_y)\n",
    "print(\"Autograd:\",A_dy)"
   ]
  },
  {
   "cell_type": "markdown",
   "metadata": {},
   "source": [
    "## Test broadcasting"
   ]
  },
  {
   "cell_type": "code",
   "execution_count": 4,
   "metadata": {},
   "outputs": [
    {
     "name": "stdout",
     "output_type": "stream",
     "text": [
      "Backpass: 364.0\n",
      "Backpass: [array([[ 6., 18.],\n",
      "       [32., 40.],\n",
      "       [24., 28.]]), array([[10.],\n",
      "       [41.],\n",
      "       [85.]])]\n",
      "Autograd: 364.0\n",
      "Autograd: (array([[ 6., 18.],\n",
      "       [32., 40.],\n",
      "       [24., 28.]], dtype=float32), array([[10.],\n",
      "       [41.],\n",
      "       [85.]], dtype=float32))\n"
     ]
    }
   ],
   "source": [
    "B_x = np.array([[1, 3], [4, 5], [6, 7]], dtype=np.float32)\n",
    "B_b = np.array([[2], [3], [1]], dtype=np.float32)\n",
    "\n",
    "A_x = anp.array([[1, 3], [4, 5], [6, 7]], dtype=np.float32)\n",
    "A_b = anp.array([[2], [3], [1]], dtype=np.float32)\n",
    "\n",
    "def B_s(x, b):\n",
    "    a = np.square(x)\n",
    "    c = a * b\n",
    "    z = a + c\n",
    "    return np.sum(z)\n",
    "\n",
    "def A_s(x, b):\n",
    "    a = anp.square(x)\n",
    "    c = a * b\n",
    "    z = a + c\n",
    "    return anp.sum(z)\n",
    "\n",
    "B_y = B_s(B_x, B_b)\n",
    "A_y = A_s(A_x, A_b)\n",
    "\n",
    "B_d_func = grad(B_s)\n",
    "B_dy = B_d_func(B_x, B_b)\n",
    "\n",
    "A_d_func = agrad(A_s, [0, 1])\n",
    "A_dy = A_d_func(A_x, A_b)\n",
    "\n",
    "print(\"Backpass:\",B_y.value)\n",
    "print(\"Backpass:\",B_dy)\n",
    "\n",
    "print(\"Autograd:\",A_y)\n",
    "print(\"Autograd:\",A_dy)"
   ]
  },
  {
   "cell_type": "code",
   "execution_count": null,
   "metadata": {},
   "outputs": [],
   "source": [
    "\n",
    "B_y = B_s(B_x, B_b)\n",
    "A_y = A_s(A_x, A_b)\n",
    "\n",
    "B_d_func = grad(B_s)\n",
    "B_dy = B_d_func(B_x, B_b)\n",
    "\n",
    "A_d_func = agrad(A_s, [0, 1])\n",
    "A_dy = A_d_func(A_x, A_b)\n",
    "\n",
    "print(\"Backpass:\",B_y.value)\n",
    "print(\"Backpass:\",B_dy)\n",
    "\n",
    "print(\"Autograd:\",A_y)\n",
    "print(\"Autograd:\",A_dy)"
   ]
  }
 ],
 "metadata": {
  "kernelspec": {
   "display_name": "autograd_env",
   "language": "python",
   "name": "autograd_env"
  },
  "language_info": {
   "codemirror_mode": {
    "name": "ipython",
    "version": 3
   },
   "file_extension": ".py",
   "mimetype": "text/x-python",
   "name": "python",
   "nbconvert_exporter": "python",
   "pygments_lexer": "ipython3",
   "version": "3.7.3"
  }
 },
 "nbformat": 4,
 "nbformat_minor": 2
}
