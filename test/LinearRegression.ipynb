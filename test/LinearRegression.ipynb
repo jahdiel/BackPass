{
 "cells": [
  {
   "cell_type": "markdown",
   "metadata": {},
   "source": [
    "## Linear Regression with Backpass\n",
    "\n",
    "A simple implementation of a linear regression model."
   ]
  },
  {
   "cell_type": "code",
   "execution_count": 1,
   "metadata": {},
   "outputs": [],
   "source": [
    "import sys\n",
    "sys.path.append('../../')\n",
    "from matplotlib import pyplot as plt\n",
    "from backpass.core import grad\n",
    "import backpass.numpy as np"
   ]
  },
  {
   "cell_type": "code",
   "execution_count": 2,
   "metadata": {},
   "outputs": [
    {
     "data": {
      "text/plain": [
       "(<backpass.core.Tensor.Tensor [0.54414078] -leaf ref: 0>,\n",
       " <backpass.core.Tensor.Tensor [0.11617081] -leaf ref: 0>)"
      ]
     },
     "execution_count": 2,
     "metadata": {},
     "output_type": "execute_result"
    }
   ],
   "source": [
    "# Generate a synthetic dataset\n",
    "x = np.arange(1, 301, dtype=np.float32)\n",
    "y_true = np.random.normal(x + 2, 50)\n",
    "\n",
    "# Initialize parameters randomly\n",
    "m = np.random.rand(1)\n",
    "b = np.random.rand(1)\n",
    "\n",
    "m, b"
   ]
  },
  {
   "cell_type": "code",
   "execution_count": 3,
   "metadata": {},
   "outputs": [
    {
     "data": {
      "image/png": "[encoded data removed]",
      "text/plain": [
       "<Figure size 432x288 with 1 Axes>"
      ]
     },
     "metadata": {
      "needs_background": "light"
     },
     "output_type": "display_data"
    }
   ],
   "source": [
    "# Calculate initial linear model (should be bad)\n",
    "res = []\n",
    "for i in range(300):\n",
    "    y_pred = (m * i) + b\n",
    "    res.append(y_pred.value)\n",
    "\n",
    "# Plot initial state\n",
    "plt.scatter(x.value, y_true.value)\n",
    "plt.plot(res, color='r')\n",
    "plt.show()"
   ]
  },
  {
   "cell_type": "markdown",
   "metadata": {},
   "source": [
    "## Function to evaluate error of linear regression model"
   ]
  },
  {
   "cell_type": "code",
   "execution_count": 4,
   "metadata": {},
   "outputs": [
    {
     "name": "stdout",
     "output_type": "stream",
     "text": [
      "101.0 85.19889926322325 <backpass.core.Tensor.Tensor [0.54414078] -leaf ref: 300> <backpass.core.Tensor.Tensor [0.11617081] -leaf ref: 300>\n"
     ]
    },
    {
     "data": {
      "text/plain": [
       "<backpass.core.Tensor.Tensor [907.48606478] ref: 0>"
      ]
     },
     "execution_count": 4,
     "metadata": {},
     "output_type": "execute_result"
    }
   ],
   "source": [
    "def calc_error(x, y_true, slope, y_intercept):\n",
    "    y_pred = (slope * x) + y_intercept\n",
    "    neg_y_pred = -1 * y_pred\n",
    "    return np.square(neg_y_pred + y_true)\n",
    "\n",
    "d_error = grad(calc_error)\n",
    "\n",
    "print(x[100], y_true[100], m, b)\n",
    "calc_error(x[100], y_true[100], m, b)"
   ]
  },
  {
   "cell_type": "markdown",
   "metadata": {},
   "source": [
    "## Run gradient descent to obtain best parameters"
   ]
  },
  {
   "cell_type": "code",
   "execution_count": 5,
   "metadata": {
    "scrolled": false
   },
   "outputs": [
    {
     "name": "stdout",
     "output_type": "stream",
     "text": [
      "[124.08073996] [-123.584417]\n",
      "[-103.97280865] [102.93308057]\n",
      "[264.66750403] [-259.37415395]\n",
      "[-230.50159056] [222.66453648]\n",
      "[435.56827839] [-412.91872791]\n",
      "[1012.83316664] [-937.8835123]\n",
      "[998.82200382] [-898.93980343]\n",
      "[-2043.86987974] [1778.16679537]\n",
      "[17.63482474] [-14.74271349]\n",
      "[1596.12625569] [-1273.70875204]\n",
      "[-1834.94240174] [1387.21645572]\n",
      "[62.44165114] [-44.33357231]\n",
      "[1042.9351928] [-688.33722725]\n",
      "[-2244.07579908] [1359.90993424]\n",
      "[399.98818026] [-219.19352278]\n",
      "[-529.10780835] [257.14639486]\n",
      "[-188.77613675] [79.28597744]\n",
      "[-1213.46776393] [424.71371738]\n",
      "[-1881.24458464] [519.22350536]\n",
      "[3810.42043253] [-754.46324564]\n",
      "[-269.41217037] [31.25181176]\n",
      "[-4021.92813019] [120.65784391]\n",
      "[5618.66249551] [337.11974973]\n",
      "[925.71359426] [142.55989352]\n",
      "[1725.47984306] [434.82092045]\n",
      "[-4437.63541474] [-1570.92293682]\n",
      "[2835.937993] [1304.53147678]\n",
      "[-3907.58105041] [-2227.32119873]\n",
      "[437.47347684] [299.23185816]\n",
      "[1300.50421308] [1043.00437889]\n",
      "[-1674.68442622] [-1547.40840983]\n",
      "[5723.94158969] [6010.13866918]\n",
      "[-8402.67258028] [-9915.15364473]\n",
      "[9179.83262233] [12062.30006574]\n",
      "[-12409.66637231] [-18018.83557259]\n",
      "[24081.08522143] [38385.24984295]\n",
      "[-47792.0569727] [-83158.1791325]\n",
      "[91259.34718907] [172480.16618734]\n",
      "[-186810.08264298] [-381839.80892225]\n",
      "[409406.70564838] [901513.56583774]\n",
      "[-950684.59226175] [-2247418.37610677]\n",
      "[2360749.65500152] [5972696.62715383]\n",
      "[-6259203.21976425] [-16899848.69336348]\n",
      "[17684960.88709975] [50826577.58952467]\n",
      "[-53157893.36058654] [-1.62237891e+08]\n",
      "[1.69524735e+08] [5.48242994e+08]\n",
      "[-5.72329689e+08] [-1.95736753e+09]\n",
      "[2.04152639e+09] [7.36991028e+09]\n",
      "[-7.68011708e+09] [-2.92151654e+10]\n",
      "[3.04195309e+10] [1.21738963e+11]\n",
      "[-1.26656233e+11] [-5.32462803e+11]\n",
      "[5.5354434e+11] [2.44113054e+12]\n",
      "[-2.53590534e+12] [-1.17158827e+13]\n",
      "[1.21620824e+13] [5.87915065e+13]\n",
      "[-6.09887525e+13] [-3.08115177e+14]\n",
      "[3.19419343e+14] [1.68461761e+15]\n",
      "[-1.74530998e+15] [-9.5992049e+15]\n",
      "[9.93892103e+15] [5.69500175e+16]\n",
      "[-5.89304444e+16] [-3.51461171e+17]\n",
      "[3.63474339e+17] [2.25426785e+18]\n",
      "[-2.33002571e+18] [-1.50146857e+19]\n",
      "[1.55109385e+19] [1.03768179e+20]\n",
      "[-1.07142093e+20] [-7.43566124e+20]\n",
      "[7.67355727e+20] [5.5203571e+21]\n",
      "[-5.69419466e+21] [-4.24331386e+22]\n",
      "[4.37486604e+22] [3.37477167e+23]\n",
      "[-3.47780032e+23] [-2.77528466e+24]\n",
      "[2.85873787e+24] [2.35845874e+25]\n",
      "[-2.42832763e+25] [-2.06990647e+26]\n",
      "[2.13033214e+26] [1.87511835e+27]\n",
      "[-1.9290703e+27] [-1.75236746e+28]\n",
      "[1.80207259e+28] [1.68854202e+29]\n",
      "[-1.7357671e+29] [-1.67675102e+30]\n",
      "[1.72299969e+30] [1.71507389e+31]\n",
      "[-1.76173616e+31] [-1.80613191e+32]\n",
      "[1.85461218e+32] [1.9573577e+33]\n",
      "[-2.00920148e+33] [-2.1819928e+34]\n",
      "[2.23903113e+34] [2.50099777e+35]\n",
      "[-2.56553166e+35] [-2.94625656e+36]\n",
      "[3.02131137e+36] [3.56575168e+37]\n",
      "[-3.65544558e+37] [-4.43186222e+38]\n",
      "[4.54195797e+38] [5.65473767e+39]\n",
      "[-5.79348871e+39] [-7.40407857e+40]\n",
      "[7.58355178e+40] [9.9450698e+41]\n",
      "[-1.01832497e+42] [-1.36985074e+43]\n",
      "[1.40226987e+43] [1.93429106e+44]\n",
      "[-1.97953303e+44] [-2.79905971e+45]\n",
      "[2.86377142e+45] [4.14960478e+46]\n",
      "[-4.24444368e+46] [-6.30045219e+47]\n",
      "[6.44282177e+47] [9.79437766e+48]\n",
      "[-1.00132261e+49] [-1.55845851e+50]\n",
      "[1.59289645e+50] [2.53748405e+51]\n",
      "[-2.59294325e+51] [-4.2264975e+52]\n",
      "[4.31787328e+52] [7.19962191e+53]\n",
      "[-7.35361141e+53] [-1.25393782e+55]\n",
      "[1.28047397e+55] [2.23237832e+56]\n",
      "[-2.27912589e+56] [-4.06140233e+57]\n",
      "[4.14556974e+57] [7.5490825e+58]\n",
      "[-7.70392334e+58] [-1.4332379e+60]\n",
      "[1.46233694e+60] [2.77873266e+61]\n",
      "[-2.83458238e+61] [-5.50022365e+62]\n",
      "[5.60967277e+62] [1.11127617e+64]\n",
      "[-1.13317166e+64] [-2.2912731e+65]\n",
      "[2.33597769e+65] [4.82005637e+66]\n",
      "[-4.91319108e+66] [-1.03432499e+68]\n",
      "[1.05411933e+68] [2.26361585e+69]\n",
      "[-2.30652512e+69] [-5.05129002e+70]\n",
      "[5.1461437e+70] [1.14913389e+72]\n",
      "[-1.17051174e+72] [-2.66455294e+73]\n",
      "[2.71366601e+73] [6.29624788e+74]\n",
      "[-6.41124069e+74] [-1.51587375e+76]\n",
      "[1.5433087e+76] [3.71783067e+77]\n",
      "[-3.78451421e+77] [-9.28719788e+78]\n",
      "[9.4522939e+78] [2.36250634e+80]\n",
      "[-2.404134e+80] [-6.11900184e+81]\n",
      "[6.2258779e+81] [1.613374e+83]\n",
      "[-1.64130965e+83] [-4.32977485e+84]\n",
      "[4.40410167e+84] [1.1825013e+86]\n",
      "[-1.20262789e+86] [-3.28606045e+87]\n",
      "[3.34151845e+87] [9.29008958e+88]\n",
      "[-9.44556414e+88] [-2.67158336e+90]\n",
      "[2.71592272e+90] [7.81370965e+91]\n",
      "[-7.94232389e+91] [-2.32392397e+93]\n",
      "[2.3618637e+93] [7.02748926e+94]\n",
      "[-7.14128918e+94] [-2.1603828e+96]\n",
      "[2.19508608e+96] [6.75076773e+97]\n",
      "[-6.85834459e+97] [-2.14391852e+99]\n",
      "[2.17781288e+99] [6.91891153e+100]\n",
      "[-7.0274385e+100] [-2.26873824e+102]\n",
      "[2.30404775e+102] [7.55773743e+103]\n",
      "[-7.67445405e+103] [-2.55743507e+105]\n",
      "[2.59662776e+105] [8.78958496e+106]\n",
      "[-8.92326109e+106] [-3.06781716e+108]\n",
      "[3.11412187e+108] [1.08726451e+110]\n",
      "[-1.10355243e+110] [-3.91231409e+111]\n",
      "[3.97048737e+111] [1.42913722e+113]\n",
      "[-1.45023064e+113] [-5.29914276e+114]\n",
      "[5.37678277e+114] [1.99424873e+116]\n",
      "[-2.02325484e+116] [-7.61634052e+117]\n",
      "[7.7263195e+117] [2.95160857e+119]\n",
      "[-2.99392392e+119] [-1.16056467e+121]\n",
      "[1.17708454e+121] [4.62947348e+122]\n",
      "[-4.6949053e+122] [-1.87326721e+124]\n",
      "[1.89955772e+124] [7.68826991e+125]\n",
      "[-7.79541961e+125] [-3.20017566e+127]\n",
      "[3.24446716e+127] [1.35080146e+129]\n",
      "[-1.36936852e+129] [-5.7814739e+130]\n",
      "[5.86039913e+130] [2.50883687e+132]\n",
      "[-2.54285383e+132] [-1.10370027e+134]\n",
      "[1.11856442e+134] [4.92190717e+135]\n",
      "[-4.98774988e+135] [-2.22473596e+137]\n",
      "[2.25429958e+137] [1.01916884e+139]\n",
      "[-1.03262278e+139] [-4.73147756e+140]\n",
      "[4.79352773e+140] [2.22582667e+142]\n",
      "[-2.25482675e+142] [-1.06094108e+144]\n",
      "[1.07467452e+144] [5.12340329e+145]\n",
      "[-5.18929712e+145] [-2.50643051e+147]\n",
      "[2.53846059e+147] [1.24206877e+149]\n",
      "[-1.2578406e+149] [-6.23436113e+150]\n",
      "[6.3130258e+150] [3.16926521e+152]\n",
      "[-3.20900405e+152] [-1.63158602e+154]\n",
      "[1.65191672e+154] [8.50571919e+155]\n",
      "[-8.61105016e+155] [-4.48980155e+157]\n",
      "[4.54505909e+157] [2.39951849e+159]\n",
      "[-2.42886958e+159] [-1.29827937e+161]\n",
      "[1.31406348e+161] [7.11092314e+162]\n",
      "[-7.19685341e+162] [-3.9424363e+164]\n",
      "[3.98979161e+164] [2.21233945e+166]\n",
      "[-2.23875474e+166] [-1.25647871e+168]\n",
      "[1.27139201e+168] [7.2217609e+169]\n",
      "[-7.3069712e+169] [-4.20033933e+171]\n",
      "[4.2496089e+171] [2.4719975e+173]\n",
      "[-2.50082473e+173] [-1.47198543e+175]\n",
      "[1.4890515e+175] [8.86789732e+176]\n",
      "[-8.97011838e+176] [-5.40467573e+178]\n",
      "[5.46661892e+178] [3.33212289e+180]\n",
      "[-3.37009488e+180] [-2.07800051e+182]\n",
      "[2.10154669e+182] [1.31073467e+184]\n",
      "[-1.32550316e+184] [-8.36180414e+185]\n",
      "[8.45549163e+185] [5.39477277e+187]\n",
      "[-5.45488026e+187] [-3.51970694e+189]\n",
      "[3.55870557e+189] [2.32205538e+191]\n",
      "[-2.34764219e+191] [-1.54897432e+193]\n",
      "[1.565949e+193] [1.04470721e+195]\n",
      "[-1.05609342e+195] [-7.12356131e+196]\n",
      "[7.20077979e+196] [4.91049977e+198]\n",
      "[-4.96344202e+198] [-3.42179693e+200]\n",
      "[3.45849101e+200] [2.41022238e+202]\n",
      "[-2.43593088e+202] [-1.71596715e+204]\n",
      "[1.73417331e+204] [1.23476608e+206]\n",
      "[-1.24779764e+206] [-8.97965096e+207]\n",
      "[9.07392356e+207] [6.59946461e+209]\n",
      "[-6.66838712e+209] [-4.90126453e+211]\n",
      "[4.95218573e+211] [3.67818643e+213]\n",
      "[-3.7162031e+213] [-2.78908475e+215]\n",
      "[2.81776372e+215] [2.13682294e+217]\n",
      "[-2.15868259e+217] [-1.6539826e+219]\n",
      "[1.67081671e+219] [1.29337921e+221]\n",
      "[-1.30647647e+221] [-1.02171686e+223]\n",
      "[1.03201104e+223] [8.15309363e+224]\n",
      "[-8.23482737e+224] [-6.57172163e+226]\n",
      "[6.63727375e+226] [5.35030637e+228]\n",
      "[-5.40341017e+228] [-4.39945656e+230]\n",
      "[4.44290719e+230] [3.6535803e+232]\n",
      "[-3.68948707e+232] [-3.0641928e+234]\n",
      "[3.09415992e+234] [2.59519569e+236]\n",
      "[-2.62045263e+236] [-2.21952337e+238]\n",
      "[2.24101959e+238] [1.91674406e+240]\n",
      "[-1.93521838e+240] [-1.671332e+242]\n",
      "[1.68736369e+242] [1.47141488e+244]\n",
      "[-1.48546156e+244] [-1.30785978e+246]\n",
      "[1.32028579e+246] [1.17360204e+248]\n",
      "[-1.18469974e+248] [-1.06314955e+250]\n",
      "[1.0731555e+250] [9.72214492e+251]\n",
      "[-9.81321739e+251] [-8.97438356e+253]\n",
      "[9.05805944e+253] [8.36185699e+255]\n",
      "[-8.43945998e+255] [-7.86388881e+257]\n",
      "[7.93653328e+257] [7.46430955e+259]\n",
      "[-7.53294579e+259] [-7.15057346e+261]\n",
      "[7.21602391e+261] [6.91309523e+263]\n",
      "[-6.97608373e+263] [-6.74475679e+265]\n",
      "[6.80593278e+265] [6.64054862e+267]\n",
      "[-6.70050751e+267] [-6.5973197e+269]\n",
      "[6.65662055e+269] [6.61361878e+271]\n",
      "[-6.67280017e+271] [-6.68961562e+273]\n",
      "[6.74921042e+273] [6.82709631e+275]\n",
      "[-6.88764616e+275] [-7.02953168e+277]\n",
      "[7.09160169e+277] [7.30222226e+279]\n",
      "[-7.36641669e+279] [-7.65252832e+281]\n",
      "[7.71950791e+281] [8.09019868e+283]\n",
      "[-8.1607005e+283] [-8.627819e+285]\n",
      "[8.70267972e+285] [9.28140792e+287]\n",
      "[-9.36159175e+287] [-1.00712004e+290]\n",
      "[1.01578332e+290] [1.10226711e+292]\n",
      "[-1.11170824e+292] [-1.2167869e+294]\n",
      "[1.22716448e+294] [1.35471595e+296]\n",
      "[-1.36622082e+296] [-1.52115026e+298]\n",
      "[1.53401393e+298] [1.72254425e+300]\n",
      "[-1.73704969e+300] [-1.96710455e+302]\n",
      "[1.98359997e+302] [2.26531084e+304]\n",
      "[-2.28422759e+304] [-2.63060786e+306]\n",
      "[2.65248374e+306] [inf]\n",
      "[-inf] [-inf]\n",
      "[inf] [nan]\n",
      "[nan] [nan]\n",
      "[nan] [nan]\n",
      "[nan] [nan]\n",
      "[nan] [nan]\n",
      "[nan] [nan]\n",
      "[nan] [nan]\n",
      "[nan] [nan]\n",
      "[nan] [nan]\n",
      "[nan] [nan]\n",
      "[nan] [nan]\n",
      "[nan] [nan]\n",
      "[nan] [nan]\n",
      "[nan] [nan]\n",
      "[nan] [nan]\n",
      "[nan] [nan]\n",
      "[nan] [nan]\n",
      "[nan] [nan]\n",
      "[nan] [nan]\n",
      "[nan] [nan]\n",
      "[nan] [nan]\n",
      "[nan] [nan]\n",
      "[nan] [nan]\n",
      "[nan] [nan]\n",
      "[nan] [nan]\n",
      "[nan] [nan]\n",
      "[nan] [nan]\n",
      "[nan] [nan]\n",
      "[nan] [nan]\n",
      "[nan] [nan]\n",
      "[nan] [nan]\n",
      "[nan] [nan]\n",
      "[nan] [nan]\n",
      "[nan] [nan]\n",
      "[nan] [nan]\n",
      "[nan] [nan]\n",
      "[nan] [nan]\n",
      "[nan] [nan]\n",
      "[nan] [nan]\n",
      "[nan] [nan]\n",
      "[nan] [nan]\n",
      "[nan] [nan]\n",
      "[nan] [nan]\n",
      "[nan] [nan]\n",
      "[nan] [nan]\n",
      "[nan] [nan]\n",
      "[nan] [nan]\n",
      "[nan] [nan]\n",
      "[nan] [nan]\n",
      "[nan] [nan]\n",
      "[nan] [nan]\n",
      "[nan] [nan]\n",
      "[nan] [nan]\n",
      "[nan] [nan]\n",
      "[nan] [nan]\n",
      "[nan] [nan]\n",
      "[nan] [nan]\n"
     ]
    },
    {
     "name": "stderr",
     "output_type": "stream",
     "text": [
      "../../backpass/numpy/core/primitives.py:10: RuntimeWarning: overflow encountered in square\n",
      "  return np.square(a)\n",
      "../../backpass/numpy/core/diff_funcs.py:26: RuntimeWarning: overflow encountered in multiply\n",
      "  return np.array([b * grad, a * grad])\n",
      "/Users/jahdiel/Documents/backpass/autograd_env/lib/python3.7/site-packages/ipykernel_launcher.py:8: RuntimeWarning: overflow encountered in multiply\n",
      "  \n",
      "/Users/jahdiel/Documents/backpass/autograd_env/lib/python3.7/site-packages/ipykernel_launcher.py:4: RuntimeWarning: invalid value encountered in subtract\n",
      "  after removing the cwd from sys.path.\n"
     ]
    }
   ],
   "source": [
    "for i in range(300):\n",
    "    d_error(x[i], y_true[i], m, b)\n",
    "    lr = 0.001\n",
    "    m.value -= lr * m.grad\n",
    "    b.value -= lr * b.grad\n",
    "    \n",
    "    y = m.value*x[i] + b.value\n",
    "    print(m.grad, 2*(y_true[i] - y)*x[i])\n",
    "    m.grad, b.grad = 0, 0"
   ]
  },
  {
   "cell_type": "markdown",
   "metadata": {},
   "source": [
    "## Plot the final linear regression model"
   ]
  },
  {
   "cell_type": "code",
   "execution_count": 6,
   "metadata": {},
   "outputs": [
    {
     "name": "stdout",
     "output_type": "stream",
     "text": [
      "<backpass.core.Tensor.Tensor [nan] -leaf ref: 301> <backpass.core.Tensor.Tensor [nan] -leaf ref: 301>\n"
     ]
    },
    {
     "data": {
      "image/png": "[encoded data removed]",
      "text/plain": [
       "<Figure size 432x288 with 1 Axes>"
      ]
     },
     "metadata": {
      "needs_background": "light"
     },
     "output_type": "display_data"
    }
   ],
   "source": [
    "# Calculate final linear model\n",
    "res = []\n",
    "for i in range(300):\n",
    "    y_pred = np.add(np.multiply(m, i), b)\n",
    "    res.append(y_pred.value)\n",
    "\n",
    "print(m, b)\n",
    "# Plot initial state\n",
    "plt.scatter(x.value, y_true.value)\n",
    "plt.plot(res, color='r')\n",
    "plt.show()"
   ]
  },
  {
   "cell_type": "code",
   "execution_count": null,
   "metadata": {},
   "outputs": [],
   "source": []
  },
  {
   "cell_type": "code",
   "execution_count": null,
   "metadata": {},
   "outputs": [],
   "source": []
  },
  {
   "cell_type": "code",
   "execution_count": null,
   "metadata": {},
   "outputs": [],
   "source": []
  }
 ],
 "metadata": {
  "kernelspec": {
   "display_name": "autograd_env",
   "language": "python",
   "name": "autograd_env"
  },
  "language_info": {
   "codemirror_mode": {
    "name": "ipython",
    "version": 3
   },
   "file_extension": ".py",
   "mimetype": "text/x-python",
   "name": "python",
   "nbconvert_exporter": "python",
   "pygments_lexer": "ipython3",
   "version": "3.7.3"
  }
 },
 "nbformat": 4,
 "nbformat_minor": 2
}
